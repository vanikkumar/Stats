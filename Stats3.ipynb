{
  "nbformat": 4,
  "nbformat_minor": 0,
  "metadata": {
    "colab": {
      "provenance": []
    },
    "kernelspec": {
      "name": "python3",
      "display_name": "Python 3"
    },
    "language_info": {
      "name": "python"
    }
  },
  "cells": [
    {
      "cell_type": "markdown",
      "source": [
        "**1. Explain the properties of the F-distribution. **\n",
        "\n",
        "The F-distribution has these key properties:\n",
        "\n",
        "Asymmetric and right-skewed.\n",
        "Degrees of Freedom (df): Defined by two values,\n",
        "  df1(numerator) and\n",
        "  df2(denominator).\n",
        "Range: 0 to positive infinity.\n",
        "Non-Negative: Only takes positive values.\n",
        "Mean: Exists if\n",
        " with a complex formula.\n",
        "Used in: ANOVA, testing variances, and regression analysis.\n",
        "Right-Tail Tests: Often focuses on right tail for significance testing."
      ],
      "metadata": {
        "id": "W-qseM7aPXWY"
      }
    },
    {
      "cell_type": "markdown",
      "source": [
        "**2. In which types of statistical tests is the F-distribution used, and why is it appropriate for these tests?**\n",
        "\n",
        "The F-distribution is used in:\n",
        "\n",
        "ANOVA: To test if multiple group means are equal by comparing variances between and within groups.\n",
        "Regression Analysis: To test the significance of a model by comparing explained to unexplained variance.\n",
        "Variance Comparison: To test if two independent sample variances are significantly different.\n",
        "It’s appropriate because it models the ratio of variances, which is essential for these types of hypothesis tests."
      ],
      "metadata": {
        "id": "xYKg_En6Qaup"
      }
    },
    {
      "cell_type": "markdown",
      "source": [
        "**3. What are the key assumptions required for conducting an F-test to compare the variances of two populations?**\n",
        "\n",
        "Key assumptions for an F-test to compare variances are:\n",
        "\n",
        "Normality: Both populations should be normally distributed.\n",
        "Independence: The samples must be independent of each other.\n",
        "Random Sampling: Data should be collected randomly from the populations.\n",
        "Ratio Scale: The data should be on a ratio scale (positive values).\n",
        "These assumptions ensure the validity of the F-test for comparing variances"
      ],
      "metadata": {
        "id": "U4NrJ9_TQlpn"
      }
    },
    {
      "cell_type": "markdown",
      "source": [
        "**4. What is the purpose of ANOVA, and how does it differ from a t-test? **\n",
        "The purpose of ANOVA (Analysis of Variance) is to test if there are significant differences between the means of three or more groups. It compares the variance between groups to the variance within groups.\n",
        "\n",
        "Difference from t-test:\n",
        "\n",
        "A t-test compares means of only two groups, while ANOVA can handle three or more groups.\n",
        "ANOVA reduces the risk of Type I error (false positives) that can occur when conducting multiple t-tests."
      ],
      "metadata": {
        "id": "zSDz65d6Q_km"
      }
    },
    {
      "cell_type": "markdown",
      "source": [
        "**5. Explain when and why you would use a one-way ANOVA instead of multiple t-tests when comparing more than two groups.**\n",
        "\n",
        "You would use a one-way ANOVA instead of multiple t-tests when comparing more than two groups to:\n",
        "\n",
        "Avoid Increased Type I Error: Conducting multiple t-tests increases the chance of false positives (Type I error) as each test carries its own error rate. ANOVA controls this by performing a single test.\n",
        "\n",
        "Compare All Groups Simultaneously: ANOVA tests if there’s at least one significant difference among multiple group means in a single analysis, providing an overall view rather than multiple pairwise comparisons.\n",
        "\n",
        "Efficiency: It’s more efficient and straightforward to use one ANOVA test rather than running multiple t-tests for each group combination."
      ],
      "metadata": {
        "id": "6GJSyda0ROv0"
      }
    },
    {
      "cell_type": "markdown",
      "source": [
        "**6. Explain how variance is partitioned in ANOVA into between-group variance and within-group variance. How does this partitioning contribute to the calculation of the F-statistic?**\n",
        "\n",
        "In ANOVA:\n",
        "\n",
        "Between-Group Variance: Measures how much group means differ from the overall mean, showing group effects.\n",
        "Within-Group Variance: Measures variability within each group, reflecting random error.\n",
        "The F-statistic is calculated by dividing between-group variance by within-group variance:\n",
        "\n",
        "F = Between-Group Variance/Within-Group Variance\n",
        "\n",
        "​A high F-value suggests significant differences between group means."
      ],
      "metadata": {
        "id": "Jx_KDFDsRp1T"
      }
    },
    {
      "cell_type": "markdown",
      "source": [
        "**7. Compare the classical (frequentist) approach to ANOVA with the Bayesian approach. What are the key differences in terms of how they handle uncertainty, parameter estimation, and hypothesis testing?**\n",
        "\n",
        "In classical (frequentist) ANOVA:\n",
        "\n",
        "Uncertainty: Based on sampling variability and fixed parameters.\n",
        "Parameter Estimation: Uses sample data to estimate group means and variances.\n",
        "Hypothesis Testing: Tests if group means differ by calculating p-values, with results depending on sample size and significance level.\n",
        "In Bayesian ANOVA:\n",
        "\n",
        "Uncertainty: Treated as a probability distribution for parameters.\n",
        "Parameter Estimation: Uses prior distributions combined with data to estimate parameters, yielding a posterior distribution.\n",
        "Hypothesis Testing: Assesses probability of hypotheses (e.g., differences in means) directly from the posterior, providing more flexible and interpretable results."
      ],
      "metadata": {
        "id": "xeZ5T27pScMM"
      }
    },
    {
      "cell_type": "code",
      "source": [
        "'''8. Question: You have two sets of data representing the incomes of two different professions1\n",
        "V Profession A: [48, 52, 55, 60, 62]\n",
        "V Profession B: [45, 50, 55, 52, 47] Perform an F-test to determine if the variances of the two professions'\n",
        "incomes are equal. What are your conclusions based on the F-test?\n",
        "\n",
        "Task: Use Python to calculate the F-statistic and p-value for the given data.\n",
        "\n",
        "Objective: Gain experience in performing F-tests and interpreting the results in terms of variance comparison.'''\n",
        "import numpy as np\n",
        "import scipy.stats as stats\n",
        "\n",
        "profession_a = np.array([48, 52, 55, 60, 62])\n",
        "profession_b = np.array([45, 50, 55, 52, 47])\n",
        "\n",
        "var_a = np.var(profession_a, ddof=1)\n",
        "var_b = np.var(profession_b, ddof=1)\n",
        "\n",
        "f_statistic = var_a / var_b\n",
        "\n",
        "\n",
        "df_a = len(profession_a) - 1\n",
        "df_b = len(profession_b) - 1\n",
        "p_value = stats.f.sf(f_statistic, df_a, df_b)\n",
        "\n",
        "f_statistic, p_value\n",
        "'''\n",
        "Since the p-value is greater than\n",
        "0.05\n",
        "0.05, we conclude that there is no significant difference between the variances of the incomes of Profession A and Profession B. Thus, we can state that the variances are equal.\n",
        "'''"
      ],
      "metadata": {
        "colab": {
          "base_uri": "https://localhost:8080/"
        },
        "id": "Ak0napmcTFtc",
        "outputId": "b999c940-eca0-4a5d-c4f0-c05b5f022f97"
      },
      "execution_count": 1,
      "outputs": [
        {
          "output_type": "execute_result",
          "data": {
            "text/plain": [
              "(2.089171974522293, 0.24652429950266966)"
            ]
          },
          "metadata": {},
          "execution_count": 1
        }
      ]
    },
    {
      "cell_type": "markdown",
      "source": [
        "**9. Question: Conduct a one-way ANOVA to test whether there are any statistically significant differences in\n",
        "average heights between three different regions with the following data1\n",
        "V Region A: [160, 162, 165, 158, 164]\n",
        "\n",
        "V Region B: [172, 175, 170, 168, 174]\n",
        "\n",
        "V Region C: [180, 182, 179, 185, 183]\n",
        "\n",
        "V Task: Write Python code to perform the one-way ANOVA and interpret the results\n",
        "V Objective: Learn how to perform one-way ANOVA using Python and interpret F-statistic and p-value.**"
      ],
      "metadata": {
        "id": "pAWgRvz5UHWI"
      }
    },
    {
      "cell_type": "code",
      "source": [
        "'''\n",
        "**9. Question: Conduct a one-way ANOVA to test whether there are any statistically significant differences in\n",
        "average heights between three different regions with the following data1\n",
        "V Region A: [160, 162, 165, 158, 164]\n",
        "\n",
        "V Region B: [172, 175, 170, 168, 174]\n",
        "\n",
        "V Region C: [180, 182, 179, 185, 183]\n",
        "\n",
        "V Task: Write Python code to perform the one-way ANOVA and interpret the results\n",
        "V Objective: Learn how to perform one-way ANOVA using Python and interpret F-statistic and p-value.**\n",
        "'''\n",
        "import numpy as np\n",
        "import scipy.stats as stats\n",
        "\n",
        "region_a = np.array([160, 162, 165, 158, 164])\n",
        "region_b = np.array([172, 175, 170, 168, 174])\n",
        "region_c = np.array([180, 182, 179, 185, 183])\n",
        "\n",
        "f_statistic, p_value = stats.f_oneway(region_a, region_b, region_c)\n",
        "\n",
        "print(f\"F-statistic: {f_statistic:.2f}\")\n",
        "print(f\"P-value: {p_value:.4e}\")\n",
        "\n",
        "if p_value < 0.05:\n",
        "    print(\"Reject the null hypothesis: There are statistically significant differences in average heights between regions.\")\n",
        "else:\n",
        "    print(\"Fail to reject the null hypothesis: There are no statistically significant differences in average heights between regions.\")\n"
      ],
      "metadata": {
        "colab": {
          "base_uri": "https://localhost:8080/"
        },
        "id": "aJhwy3yEUiVV",
        "outputId": "bf3aa385-d4d8-47a9-eae7-b0d7f9c01921"
      },
      "execution_count": 3,
      "outputs": [
        {
          "output_type": "stream",
          "name": "stdout",
          "text": [
            "F-statistic: 67.87\n",
            "P-value: 2.8707e-07\n",
            "Reject the null hypothesis: There are statistically significant differences in average heights between regions.\n"
          ]
        }
      ]
    }
  ]
}